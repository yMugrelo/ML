{
  "nbformat": 4,
  "nbformat_minor": 0,
  "metadata": {
    "colab": {
      "provenance": [],
      "authorship_tag": "ABX9TyMlPxcMgoxEp5E+J/EoGicG",
      "include_colab_link": true
    },
    "kernelspec": {
      "name": "python3",
      "display_name": "Python 3"
    },
    "language_info": {
      "name": "python"
    }
  },
  "cells": [
    {
      "cell_type": "markdown",
      "metadata": {
        "id": "view-in-github",
        "colab_type": "text"
      },
      "source": [
        "<a href=\"https://colab.research.google.com/github/yMugrelo/ML/blob/main/week2/C1_W2_Lab01_Python_Numpy_Vectorization_Soln.ipynb\" target=\"_parent\"><img src=\"https://colab.research.google.com/assets/colab-badge.svg\" alt=\"Open In Colab\"/></a>"
      ]
    },
    {
      "cell_type": "markdown",
      "source": [
        "# **Optional Lab: Python, NumPy and Vectorization**\n",
        "\n",
        "\n",
        "\n"
      ],
      "metadata": {
        "id": "c2AtVMVb0Gfv"
      }
    },
    {
      "cell_type": "markdown",
      "source": [
        "A brief introduction to some of the scientific computing used in this course. In particular the NumPy scientific computing package and its use with python."
      ],
      "metadata": {
        "id": "k8ehS_Ej0SYQ"
      }
    },
    {
      "cell_type": "code",
      "source": [
        "import numpy as np\n",
        "import time"
      ],
      "metadata": {
        "id": "EdnIvirL0K5U"
      },
      "execution_count": 1,
      "outputs": []
    },
    {
      "cell_type": "markdown",
      "source": [
        "# **1.1 Goals**\n",
        "In this lab, you will:\n",
        "\n",
        "Review the features of NumPy and Python that are used in Course 1"
      ],
      "metadata": {
        "id": "ugSsZIL-0tGM"
      }
    },
    {
      "cell_type": "markdown",
      "source": [
        "# **2 Python and NumPy**\n",
        "Python is the programming language we will be using in this course. It has a set of numeric data types and arithmetic operations. NumPy is a library that extends the base capabilities of python to add a richer data set including more numeric types, vectors, matrices, and many matrix functions. NumPy and python work together fairly seamlessly. Python arithmetic operators work on NumPy data types and many NumPy functions will accept python data types.\n",
        "\n",
        "\n",
        "\n"
      ],
      "metadata": {
        "id": "soy07a_300-r"
      }
    },
    {
      "cell_type": "markdown",
      "source": [
        "# **3 Vectors**\n",
        "\n",
        "**3.1 Abstract**\n",
        "Vectors, as you will use them in this course, are ordered arrays of numbers. In notation, vectors are denoted with lower case bold letters such as\n",
        ". The elements of a vector are all the same type. A vector does not, for example, contain both characters and numbers. The number of elements in the array is often referred to as the dimension though mathematicians may prefer rank. The vector shown has a dimension of\n",
        ". The elements of a vector can be referenced with an index. In math settings, indexes typically run from 1 to n. In computer science and these labs, indexing will typically run from 0 to n-1. In notation, elements of a vector, when referenced individually will indicate the index in a subscript, for example, the\n",
        " element, of the vector\n",
        " is\n",
        ". Note, the x is not bold in this case."
      ],
      "metadata": {
        "id": "P0qCS3pz1H8U"
      }
    },
    {
      "cell_type": "markdown",
      "source": [
        "# **3.3 Vector Creation**\n",
        "Data creation routines in NumPy will generally have a first parameter which is the shape of the object. This can either be a single value for a 1-D result or a tuple (n,m,...) specifying the shape of the result. Below are examples of creating vectors using these routines."
      ],
      "metadata": {
        "id": "_YvQOFXZ15tu"
      }
    },
    {
      "cell_type": "code",
      "source": [
        "a = np.zeros(4)    ;print(f\"np.zeros(4) = {a}, a shape = {a.shape}, a data type = {a.dtype}\")\n",
        "a = np.zeros((4,)); print(f\"np.zeros(4,) = {a}, a shape = {a.shape}, a data type = {a.dtype}\")\n",
        "a = np.random.random_sample(4); print(f\"np.random.random_sample(4) = {a}, a shape = {a.shape}, a data type = {a.dtype}\")\n",
        "\n"
      ],
      "metadata": {
        "colab": {
          "base_uri": "https://localhost:8080/"
        },
        "id": "0AgEQrZN0rcF",
        "outputId": "02e2c5d0-0f43-4103-e4a5-27b042827fa3"
      },
      "execution_count": 2,
      "outputs": [
        {
          "output_type": "stream",
          "name": "stdout",
          "text": [
            "np.zeros(4) = [0. 0. 0. 0.], a shape = (4,), a data type = float64\n",
            "np.zeros(4,) = [0. 0. 0. 0.], a shape = (4,), a data type = float64\n",
            "np.random.random_sample(4) = [0.73490868 0.49613784 0.35409262 0.77198356], a shape = (4,), a data type = float64\n"
          ]
        }
      ]
    },
    {
      "cell_type": "code",
      "execution_count": 4,
      "metadata": {
        "colab": {
          "base_uri": "https://localhost:8080/"
        },
        "id": "mGCgHiJtz0Is",
        "outputId": "dba11a75-b716-4fdb-9ff1-e1920809f422"
      },
      "outputs": [
        {
          "output_type": "stream",
          "name": "stdout",
          "text": [
            "np.arange(4)      = [0. 1. 2. 3.], ashape = (4,), a datatype float64\n",
            "np.random.rand(4) = [0.28934563 0.68997625 0.17820658 0.03047087], ashape = (4,), a datatype float64 \n"
          ]
        }
      ],
      "source": [
        "# NumPy routines which allocate memory and fill arrays with value but do not accept shape as input argument\n",
        "\n",
        "a = np.arange(4.);      print(f\"np.arange(4)      = {a}, ashape = {a.shape}, a datatype {a.dtype}\")\n",
        "a = np.random.rand(4) ; print(f\"np.random.rand(4) = {a}, ashape = {a.shape}, a datatype {a.dtype} \")"
      ]
    },
    {
      "cell_type": "code",
      "source": [
        "a = np.array([5,4,3,2]); print(f\"np.array([5,4,3,2])  = {a}, ashape = {a.shape}, adatatype {a.dtype}\")\n",
        "a = np.arry"
      ],
      "metadata": {
        "id": "Syb8ZJ5D5f32"
      },
      "execution_count": null,
      "outputs": []
    },
    {
      "cell_type": "markdown",
      "source": [
        "# **Operations in vectors**\n",
        "\n",
        "\n",
        "**3.4.1 Indexing**\n",
        "Elements of vectors can be accessed via indexing and slicing. NumPy provides a very complete set of indexing and slicing capabilities. We will explore only the basics needed for the course here. Reference Slicing and Indexing for more details.\n",
        "Indexing means referring to an element of an array by its position within the array.\n",
        "Slicing means getting a subset of elements from an array based on their indices.\n",
        "NumPy starts indexing at zero so the 3rd element of an vector\n",
        " is a[2]."
      ],
      "metadata": {
        "id": "pUFbQZRJ-gL3"
      }
    },
    {
      "cell_type": "code",
      "source": [
        "a = np.arange(10)\n",
        "print(a)\n",
        "\n",
        "print(f\"a [2].shape: {a[2].shape}, a[2] = {a[2]}\")\n",
        "print(f\" a[-1] = {a[-1]}\")\n",
        "\n",
        "try:\n",
        "  c = a[10]\n",
        "except Exception as e:\n",
        "  print(\"the error message you'll see is:\")\n",
        "  print(e)"
      ],
      "metadata": {
        "colab": {
          "base_uri": "https://localhost:8080/"
        },
        "id": "PiDXmh72-rH9",
        "outputId": "d9105e71-19d8-4a10-991d-9329ff5879b9"
      },
      "execution_count": 8,
      "outputs": [
        {
          "output_type": "stream",
          "name": "stdout",
          "text": [
            "[0 1 2 3 4 5 6 7 8 9]\n",
            "a [2].shape: (), a[2] = 2\n",
            " a[-1] = 9\n",
            "the error message you'll see is:\n",
            "index 10 is out of bounds for axis 0 with size 10\n"
          ]
        }
      ]
    },
    {
      "cell_type": "markdown",
      "source": [
        "# **3.4.2 Slicing**\n",
        "Slicing creates an array of indices using a set of three values (start:stop:step). A subset of values is also valid. Its use is best explained by example:"
      ],
      "metadata": {
        "id": "_39_nQg_AH-G"
      }
    },
    {
      "cell_type": "code",
      "source": [
        "a = np.arange()"
      ],
      "metadata": {
        "id": "qSKbggCc_-qc"
      },
      "execution_count": null,
      "outputs": []
    }
  ]
}