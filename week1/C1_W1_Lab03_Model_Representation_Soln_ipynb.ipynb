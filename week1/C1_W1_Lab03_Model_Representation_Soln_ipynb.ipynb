{
  "nbformat": 4,
  "nbformat_minor": 0,
  "metadata": {
    "colab": {
      "provenance": [],
      "authorship_tag": "ABX9TyNaAFzppUPq0VCeAVPiz6fC",
      "include_colab_link": true
    },
    "kernelspec": {
      "name": "python3",
      "display_name": "Python 3"
    },
    "language_info": {
      "name": "python"
    }
  },
  "cells": [
    {
      "cell_type": "markdown",
      "metadata": {
        "id": "view-in-github",
        "colab_type": "text"
      },
      "source": [
        "<a href=\"https://colab.research.google.com/github/yMugrelo/ML/blob/main/week1/C1_W1_Lab03_Model_Representation_Soln_ipynb.ipynb\" target=\"_parent\"><img src=\"https://colab.research.google.com/assets/colab-badge.svg\" alt=\"Open In Colab\"/></a>"
      ]
    },
    {
      "cell_type": "code",
      "execution_count": null,
      "metadata": {
        "id": "c0VynbCXgBr3"
      },
      "outputs": [],
      "source": [
        "import numpy as np\n",
        "import matplotlib.pyplot as plt\n"
      ]
    },
    {
      "cell_type": "code",
      "source": [
        "x_train = np.array([1,2])\n",
        "y_train = np.array([500,600])\n",
        "print(f\"x_train = {x_train}\")\n",
        "print(f\"y_train = {y_train}\")"
      ],
      "metadata": {
        "colab": {
          "base_uri": "https://localhost:8080/"
        },
        "id": "pLaOfOi6g6Os",
        "outputId": "586bf4f4-9bd6-4d9b-fd50-2efbc4ee985a"
      },
      "execution_count": null,
      "outputs": [
        {
          "output_type": "stream",
          "name": "stdout",
          "text": [
            "x_train = [1 2]\n",
            "y_train = [500 600]\n"
          ]
        }
      ]
    },
    {
      "cell_type": "code",
      "source": [
        "print(f'teh number of training data is: {x_train.shape}')\n",
        "i = x_train.shape[0]\n",
        "print(f\"the number of example is: {i}\")"
      ],
      "metadata": {
        "colab": {
          "base_uri": "https://localhost:8080/"
        },
        "id": "9q3Hx6bAhTW2",
        "outputId": "af96a596-348e-45a2-b780-56dc39ca1ebd"
      },
      "execution_count": null,
      "outputs": [
        {
          "output_type": "stream",
          "name": "stdout",
          "text": [
            "teh number of training data is: (2,)\n",
            "the number of example is: 2\n"
          ]
        }
      ]
    },
    {
      "cell_type": "code",
      "source": [
        "##the number of training examples\n",
        "\n",
        "m = len(x_train)\n",
        "print(f'the number of example is: {m}')"
      ],
      "metadata": {
        "colab": {
          "base_uri": "https://localhost:8080/"
        },
        "id": "zAl4hAZdiVa4",
        "outputId": "b13bcf72-0f9b-4d0f-8637-f1654824410d"
      },
      "execution_count": null,
      "outputs": [
        {
          "output_type": "stream",
          "name": "stdout",
          "text": [
            "the number of example is 2\n"
          ]
        }
      ]
    },
    {
      "cell_type": "code",
      "source": [
        "for i in range(x_train.shape[0]):\n",
        "    ix = x_train[i]\n",
        "    iy = y_train[i]\n",
        "    print(f\"(x^({i}), y^({i})) = ({ix}, {iy})\")\n"
      ],
      "metadata": {
        "colab": {
          "base_uri": "https://localhost:8080/"
        },
        "id": "tddxOCfvioZv",
        "outputId": "9f5412b3-9bad-4f1c-a84a-e11591d23de7"
      },
      "execution_count": null,
      "outputs": [
        {
          "output_type": "stream",
          "name": "stdout",
          "text": [
            "(x^(0), y^(0)) = (1, 500)\n",
            "(x^(1), y^(1)) = (2, 600)\n"
          ]
        }
      ]
    },
    {
      "cell_type": "code",
      "source": [
        "plt.scatter(x_train, y_train, marker='*', c='r')\n",
        "# Set the title\n",
        "plt.title(\"Housing Prices\")\n",
        "# Set the y-axis label\n",
        "plt.ylabel('Price (in 1000s of dollars)')\n",
        "# Set the x-axis label\n",
        "plt.xlabel('Size (1000 sqft)')\n",
        "plt.show()"
      ],
      "metadata": {
        "colab": {
          "base_uri": "https://localhost:8080/",
          "height": 472
        },
        "id": "sIrYC2i1jX3q",
        "outputId": "2b9c8fb6-878d-438a-c4c6-8f6be1b06a13"
      },
      "execution_count": null,
      "outputs": [
        {
          "output_type": "display_data",
          "data": {
            "text/plain": [
              "<Figure size 640x480 with 1 Axes>"
            ],
            "image/png": "[encoded data removed]"
          },
          "metadata": {}
        }
      ]
    }
  ]
}